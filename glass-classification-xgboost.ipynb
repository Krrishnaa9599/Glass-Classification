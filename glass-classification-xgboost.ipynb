{
 "cells": [
  {
   "cell_type": "code",
   "execution_count": 1,
   "metadata": {
    "execution": {
     "iopub.execute_input": "2020-12-02T07:45:21.854338Z",
     "iopub.status.busy": "2020-12-02T07:45:21.853496Z",
     "iopub.status.idle": "2020-12-02T07:45:25.509523Z",
     "shell.execute_reply": "2020-12-02T07:45:25.508684Z"
    },
    "id": "PKiDSLseFnpB",
    "papermill": {
     "duration": 3.698279,
     "end_time": "2020-12-02T07:45:25.509664",
     "exception": false,
     "start_time": "2020-12-02T07:45:21.811385",
     "status": "completed"
    },
    "tags": []
   },
   "outputs": [],
   "source": [
    "import numpy as np\n",
    "import seaborn as sns\n",
    "import pandas as pd\n",
    "import matplotlib.pyplot as plt\n",
    "import plotly.express as px\n",
    "import xgboost\n",
    "import cv2\n",
    "import imblearn"
   ]
  },
  {
   "cell_type": "markdown",
   "metadata": {
    "id": "BwFYGvEhFnpC",
    "papermill": {
     "duration": 0.033466,
     "end_time": "2020-12-02T07:45:25.577135",
     "exception": false,
     "start_time": "2020-12-02T07:45:25.543669",
     "status": "completed"
    },
    "tags": []
   },
   "source": [
    "# Data Loading"
   ]
  },
  {
   "cell_type": "code",
   "execution_count": 2,
   "metadata": {
    "execution": {
     "iopub.execute_input": "2020-12-02T07:45:25.654854Z",
     "iopub.status.busy": "2020-12-02T07:45:25.653934Z",
     "iopub.status.idle": "2020-12-02T07:45:25.664398Z",
     "shell.execute_reply": "2020-12-02T07:45:25.665117Z"
    },
    "id": "xqzRfDzwFnpC",
    "papermill": {
     "duration": 0.054203,
     "end_time": "2020-12-02T07:45:25.665283",
     "exception": false,
     "start_time": "2020-12-02T07:45:25.611080",
     "status": "completed"
    },
    "tags": []
   },
   "outputs": [],
   "source": [
    "df=pd.read_csv('../input/glass/glass.csv')"
   ]
  },
  {
   "cell_type": "code",
   "execution_count": 3,
   "metadata": {
    "execution": {
     "iopub.execute_input": "2020-12-02T07:45:25.762826Z",
     "iopub.status.busy": "2020-12-02T07:45:25.761368Z",
     "iopub.status.idle": "2020-12-02T07:45:25.782960Z",
     "shell.execute_reply": "2020-12-02T07:45:25.782135Z"
    },
    "id": "K8w7tDh9FnpC",
    "outputId": "0a002dc7-1dd7-459c-d958-c6f0e63626aa",
    "papermill": {
     "duration": 0.083352,
     "end_time": "2020-12-02T07:45:25.783154",
     "exception": false,
     "start_time": "2020-12-02T07:45:25.699802",
     "status": "completed"
    },
    "tags": []
   },
   "outputs": [
    {
     "data": {
      "text/html": [
       "<div>\n",
       "<style scoped>\n",
       "    .dataframe tbody tr th:only-of-type {\n",
       "        vertical-align: middle;\n",
       "    }\n",
       "\n",
       "    .dataframe tbody tr th {\n",
       "        vertical-align: top;\n",
       "    }\n",
       "\n",
       "    .dataframe thead th {\n",
       "        text-align: right;\n",
       "    }\n",
       "</style>\n",
       "<table border=\"1\" class=\"dataframe\">\n",
       "  <thead>\n",
       "    <tr style=\"text-align: right;\">\n",
       "      <th></th>\n",
       "      <th>RI</th>\n",
       "      <th>Na</th>\n",
       "      <th>Mg</th>\n",
       "      <th>Al</th>\n",
       "      <th>Si</th>\n",
       "      <th>K</th>\n",
       "      <th>Ca</th>\n",
       "      <th>Ba</th>\n",
       "      <th>Fe</th>\n",
       "      <th>Type</th>\n",
       "    </tr>\n",
       "  </thead>\n",
       "  <tbody>\n",
       "    <tr>\n",
       "      <th>0</th>\n",
       "      <td>1.52101</td>\n",
       "      <td>13.64</td>\n",
       "      <td>4.49</td>\n",
       "      <td>1.10</td>\n",
       "      <td>71.78</td>\n",
       "      <td>0.06</td>\n",
       "      <td>8.75</td>\n",
       "      <td>0.00</td>\n",
       "      <td>0.0</td>\n",
       "      <td>1</td>\n",
       "    </tr>\n",
       "    <tr>\n",
       "      <th>1</th>\n",
       "      <td>1.51761</td>\n",
       "      <td>13.89</td>\n",
       "      <td>3.60</td>\n",
       "      <td>1.36</td>\n",
       "      <td>72.73</td>\n",
       "      <td>0.48</td>\n",
       "      <td>7.83</td>\n",
       "      <td>0.00</td>\n",
       "      <td>0.0</td>\n",
       "      <td>1</td>\n",
       "    </tr>\n",
       "    <tr>\n",
       "      <th>2</th>\n",
       "      <td>1.51618</td>\n",
       "      <td>13.53</td>\n",
       "      <td>3.55</td>\n",
       "      <td>1.54</td>\n",
       "      <td>72.99</td>\n",
       "      <td>0.39</td>\n",
       "      <td>7.78</td>\n",
       "      <td>0.00</td>\n",
       "      <td>0.0</td>\n",
       "      <td>1</td>\n",
       "    </tr>\n",
       "    <tr>\n",
       "      <th>3</th>\n",
       "      <td>1.51766</td>\n",
       "      <td>13.21</td>\n",
       "      <td>3.69</td>\n",
       "      <td>1.29</td>\n",
       "      <td>72.61</td>\n",
       "      <td>0.57</td>\n",
       "      <td>8.22</td>\n",
       "      <td>0.00</td>\n",
       "      <td>0.0</td>\n",
       "      <td>1</td>\n",
       "    </tr>\n",
       "    <tr>\n",
       "      <th>4</th>\n",
       "      <td>1.51742</td>\n",
       "      <td>13.27</td>\n",
       "      <td>3.62</td>\n",
       "      <td>1.24</td>\n",
       "      <td>73.08</td>\n",
       "      <td>0.55</td>\n",
       "      <td>8.07</td>\n",
       "      <td>0.00</td>\n",
       "      <td>0.0</td>\n",
       "      <td>1</td>\n",
       "    </tr>\n",
       "    <tr>\n",
       "      <th>...</th>\n",
       "      <td>...</td>\n",
       "      <td>...</td>\n",
       "      <td>...</td>\n",
       "      <td>...</td>\n",
       "      <td>...</td>\n",
       "      <td>...</td>\n",
       "      <td>...</td>\n",
       "      <td>...</td>\n",
       "      <td>...</td>\n",
       "      <td>...</td>\n",
       "    </tr>\n",
       "    <tr>\n",
       "      <th>209</th>\n",
       "      <td>1.51623</td>\n",
       "      <td>14.14</td>\n",
       "      <td>0.00</td>\n",
       "      <td>2.88</td>\n",
       "      <td>72.61</td>\n",
       "      <td>0.08</td>\n",
       "      <td>9.18</td>\n",
       "      <td>1.06</td>\n",
       "      <td>0.0</td>\n",
       "      <td>7</td>\n",
       "    </tr>\n",
       "    <tr>\n",
       "      <th>210</th>\n",
       "      <td>1.51685</td>\n",
       "      <td>14.92</td>\n",
       "      <td>0.00</td>\n",
       "      <td>1.99</td>\n",
       "      <td>73.06</td>\n",
       "      <td>0.00</td>\n",
       "      <td>8.40</td>\n",
       "      <td>1.59</td>\n",
       "      <td>0.0</td>\n",
       "      <td>7</td>\n",
       "    </tr>\n",
       "    <tr>\n",
       "      <th>211</th>\n",
       "      <td>1.52065</td>\n",
       "      <td>14.36</td>\n",
       "      <td>0.00</td>\n",
       "      <td>2.02</td>\n",
       "      <td>73.42</td>\n",
       "      <td>0.00</td>\n",
       "      <td>8.44</td>\n",
       "      <td>1.64</td>\n",
       "      <td>0.0</td>\n",
       "      <td>7</td>\n",
       "    </tr>\n",
       "    <tr>\n",
       "      <th>212</th>\n",
       "      <td>1.51651</td>\n",
       "      <td>14.38</td>\n",
       "      <td>0.00</td>\n",
       "      <td>1.94</td>\n",
       "      <td>73.61</td>\n",
       "      <td>0.00</td>\n",
       "      <td>8.48</td>\n",
       "      <td>1.57</td>\n",
       "      <td>0.0</td>\n",
       "      <td>7</td>\n",
       "    </tr>\n",
       "    <tr>\n",
       "      <th>213</th>\n",
       "      <td>1.51711</td>\n",
       "      <td>14.23</td>\n",
       "      <td>0.00</td>\n",
       "      <td>2.08</td>\n",
       "      <td>73.36</td>\n",
       "      <td>0.00</td>\n",
       "      <td>8.62</td>\n",
       "      <td>1.67</td>\n",
       "      <td>0.0</td>\n",
       "      <td>7</td>\n",
       "    </tr>\n",
       "  </tbody>\n",
       "</table>\n",
       "<p>214 rows × 10 columns</p>\n",
       "</div>"
      ],
      "text/plain": [
       "          RI     Na    Mg    Al     Si     K    Ca    Ba   Fe  Type\n",
       "0    1.52101  13.64  4.49  1.10  71.78  0.06  8.75  0.00  0.0     1\n",
       "1    1.51761  13.89  3.60  1.36  72.73  0.48  7.83  0.00  0.0     1\n",
       "2    1.51618  13.53  3.55  1.54  72.99  0.39  7.78  0.00  0.0     1\n",
       "3    1.51766  13.21  3.69  1.29  72.61  0.57  8.22  0.00  0.0     1\n",
       "4    1.51742  13.27  3.62  1.24  73.08  0.55  8.07  0.00  0.0     1\n",
       "..       ...    ...   ...   ...    ...   ...   ...   ...  ...   ...\n",
       "209  1.51623  14.14  0.00  2.88  72.61  0.08  9.18  1.06  0.0     7\n",
       "210  1.51685  14.92  0.00  1.99  73.06  0.00  8.40  1.59  0.0     7\n",
       "211  1.52065  14.36  0.00  2.02  73.42  0.00  8.44  1.64  0.0     7\n",
       "212  1.51651  14.38  0.00  1.94  73.61  0.00  8.48  1.57  0.0     7\n",
       "213  1.51711  14.23  0.00  2.08  73.36  0.00  8.62  1.67  0.0     7\n",
       "\n",
       "[214 rows x 10 columns]"
      ]
     },
     "execution_count": 3,
     "metadata": {},
     "output_type": "execute_result"
    }
   ],
   "source": [
    "df"
   ]
  },
  {
   "cell_type": "code",
   "execution_count": 4,
   "metadata": {
    "execution": {
     "iopub.execute_input": "2020-12-02T07:45:25.864557Z",
     "iopub.status.busy": "2020-12-02T07:45:25.863226Z",
     "iopub.status.idle": "2020-12-02T07:45:25.869166Z",
     "shell.execute_reply": "2020-12-02T07:45:25.868478Z"
    },
    "id": "56vsUkjGFnpF",
    "outputId": "5cae70b7-4c82-4d86-8127-107f38943b5a",
    "papermill": {
     "duration": 0.048205,
     "end_time": "2020-12-02T07:45:25.869379",
     "exception": false,
     "start_time": "2020-12-02T07:45:25.821174",
     "status": "completed"
    },
    "tags": []
   },
   "outputs": [
    {
     "data": {
      "text/plain": [
       "Index(['RI', 'Na', 'Mg', 'Al', 'Si', 'K', 'Ca', 'Ba', 'Fe', 'Type'], dtype='object')"
      ]
     },
     "execution_count": 4,
     "metadata": {},
     "output_type": "execute_result"
    }
   ],
   "source": [
    "df.columns"
   ]
  },
  {
   "cell_type": "code",
   "execution_count": 5,
   "metadata": {
    "execution": {
     "iopub.execute_input": "2020-12-02T07:45:25.953605Z",
     "iopub.status.busy": "2020-12-02T07:45:25.952616Z",
     "iopub.status.idle": "2020-12-02T07:45:26.000453Z",
     "shell.execute_reply": "2020-12-02T07:45:25.999650Z"
    },
    "id": "BU2HulBaFnpF",
    "outputId": "77114e1b-07dc-4e89-cba1-7d4d04dd15ac",
    "papermill": {
     "duration": 0.093411,
     "end_time": "2020-12-02T07:45:26.000608",
     "exception": false,
     "start_time": "2020-12-02T07:45:25.907197",
     "status": "completed"
    },
    "tags": []
   },
   "outputs": [
    {
     "data": {
      "text/html": [
       "<div>\n",
       "<style scoped>\n",
       "    .dataframe tbody tr th:only-of-type {\n",
       "        vertical-align: middle;\n",
       "    }\n",
       "\n",
       "    .dataframe tbody tr th {\n",
       "        vertical-align: top;\n",
       "    }\n",
       "\n",
       "    .dataframe thead th {\n",
       "        text-align: right;\n",
       "    }\n",
       "</style>\n",
       "<table border=\"1\" class=\"dataframe\">\n",
       "  <thead>\n",
       "    <tr style=\"text-align: right;\">\n",
       "      <th></th>\n",
       "      <th>RI</th>\n",
       "      <th>Na</th>\n",
       "      <th>Mg</th>\n",
       "      <th>Al</th>\n",
       "      <th>Si</th>\n",
       "      <th>K</th>\n",
       "      <th>Ca</th>\n",
       "      <th>Ba</th>\n",
       "      <th>Fe</th>\n",
       "      <th>Type</th>\n",
       "    </tr>\n",
       "  </thead>\n",
       "  <tbody>\n",
       "    <tr>\n",
       "      <th>count</th>\n",
       "      <td>214.000000</td>\n",
       "      <td>214.000000</td>\n",
       "      <td>214.000000</td>\n",
       "      <td>214.000000</td>\n",
       "      <td>214.000000</td>\n",
       "      <td>214.000000</td>\n",
       "      <td>214.000000</td>\n",
       "      <td>214.000000</td>\n",
       "      <td>214.000000</td>\n",
       "      <td>214.000000</td>\n",
       "    </tr>\n",
       "    <tr>\n",
       "      <th>mean</th>\n",
       "      <td>1.518365</td>\n",
       "      <td>13.407850</td>\n",
       "      <td>2.684533</td>\n",
       "      <td>1.444907</td>\n",
       "      <td>72.650935</td>\n",
       "      <td>0.497056</td>\n",
       "      <td>8.956963</td>\n",
       "      <td>0.175047</td>\n",
       "      <td>0.057009</td>\n",
       "      <td>2.780374</td>\n",
       "    </tr>\n",
       "    <tr>\n",
       "      <th>std</th>\n",
       "      <td>0.003037</td>\n",
       "      <td>0.816604</td>\n",
       "      <td>1.442408</td>\n",
       "      <td>0.499270</td>\n",
       "      <td>0.774546</td>\n",
       "      <td>0.652192</td>\n",
       "      <td>1.423153</td>\n",
       "      <td>0.497219</td>\n",
       "      <td>0.097439</td>\n",
       "      <td>2.103739</td>\n",
       "    </tr>\n",
       "    <tr>\n",
       "      <th>min</th>\n",
       "      <td>1.511150</td>\n",
       "      <td>10.730000</td>\n",
       "      <td>0.000000</td>\n",
       "      <td>0.290000</td>\n",
       "      <td>69.810000</td>\n",
       "      <td>0.000000</td>\n",
       "      <td>5.430000</td>\n",
       "      <td>0.000000</td>\n",
       "      <td>0.000000</td>\n",
       "      <td>1.000000</td>\n",
       "    </tr>\n",
       "    <tr>\n",
       "      <th>25%</th>\n",
       "      <td>1.516523</td>\n",
       "      <td>12.907500</td>\n",
       "      <td>2.115000</td>\n",
       "      <td>1.190000</td>\n",
       "      <td>72.280000</td>\n",
       "      <td>0.122500</td>\n",
       "      <td>8.240000</td>\n",
       "      <td>0.000000</td>\n",
       "      <td>0.000000</td>\n",
       "      <td>1.000000</td>\n",
       "    </tr>\n",
       "    <tr>\n",
       "      <th>50%</th>\n",
       "      <td>1.517680</td>\n",
       "      <td>13.300000</td>\n",
       "      <td>3.480000</td>\n",
       "      <td>1.360000</td>\n",
       "      <td>72.790000</td>\n",
       "      <td>0.555000</td>\n",
       "      <td>8.600000</td>\n",
       "      <td>0.000000</td>\n",
       "      <td>0.000000</td>\n",
       "      <td>2.000000</td>\n",
       "    </tr>\n",
       "    <tr>\n",
       "      <th>75%</th>\n",
       "      <td>1.519157</td>\n",
       "      <td>13.825000</td>\n",
       "      <td>3.600000</td>\n",
       "      <td>1.630000</td>\n",
       "      <td>73.087500</td>\n",
       "      <td>0.610000</td>\n",
       "      <td>9.172500</td>\n",
       "      <td>0.000000</td>\n",
       "      <td>0.100000</td>\n",
       "      <td>3.000000</td>\n",
       "    </tr>\n",
       "    <tr>\n",
       "      <th>max</th>\n",
       "      <td>1.533930</td>\n",
       "      <td>17.380000</td>\n",
       "      <td>4.490000</td>\n",
       "      <td>3.500000</td>\n",
       "      <td>75.410000</td>\n",
       "      <td>6.210000</td>\n",
       "      <td>16.190000</td>\n",
       "      <td>3.150000</td>\n",
       "      <td>0.510000</td>\n",
       "      <td>7.000000</td>\n",
       "    </tr>\n",
       "  </tbody>\n",
       "</table>\n",
       "</div>"
      ],
      "text/plain": [
       "               RI          Na          Mg          Al          Si           K  \\\n",
       "count  214.000000  214.000000  214.000000  214.000000  214.000000  214.000000   \n",
       "mean     1.518365   13.407850    2.684533    1.444907   72.650935    0.497056   \n",
       "std      0.003037    0.816604    1.442408    0.499270    0.774546    0.652192   \n",
       "min      1.511150   10.730000    0.000000    0.290000   69.810000    0.000000   \n",
       "25%      1.516523   12.907500    2.115000    1.190000   72.280000    0.122500   \n",
       "50%      1.517680   13.300000    3.480000    1.360000   72.790000    0.555000   \n",
       "75%      1.519157   13.825000    3.600000    1.630000   73.087500    0.610000   \n",
       "max      1.533930   17.380000    4.490000    3.500000   75.410000    6.210000   \n",
       "\n",
       "               Ca          Ba          Fe        Type  \n",
       "count  214.000000  214.000000  214.000000  214.000000  \n",
       "mean     8.956963    0.175047    0.057009    2.780374  \n",
       "std      1.423153    0.497219    0.097439    2.103739  \n",
       "min      5.430000    0.000000    0.000000    1.000000  \n",
       "25%      8.240000    0.000000    0.000000    1.000000  \n",
       "50%      8.600000    0.000000    0.000000    2.000000  \n",
       "75%      9.172500    0.000000    0.100000    3.000000  \n",
       "max     16.190000    3.150000    0.510000    7.000000  "
      ]
     },
     "execution_count": 5,
     "metadata": {},
     "output_type": "execute_result"
    }
   ],
   "source": [
    "df.describe()"
   ]
  },
  {
   "cell_type": "markdown",
   "metadata": {
    "id": "BsfWvowAFnpF",
    "papermill": {
     "duration": 0.037568,
     "end_time": "2020-12-02T07:45:26.074837",
     "exception": false,
     "start_time": "2020-12-02T07:45:26.037269",
     "status": "completed"
    },
    "tags": []
   },
   "source": [
    "# Identifing Missing Values"
   ]
  },
  {
   "cell_type": "code",
   "execution_count": 6,
   "metadata": {
    "execution": {
     "iopub.execute_input": "2020-12-02T07:45:26.160131Z",
     "iopub.status.busy": "2020-12-02T07:45:26.159024Z",
     "iopub.status.idle": "2020-12-02T07:45:26.163649Z",
     "shell.execute_reply": "2020-12-02T07:45:26.164542Z"
    },
    "id": "YQkjMlz7FnpG",
    "outputId": "9281acbe-fd54-4e9e-bdd8-f9064c1a17ef",
    "papermill": {
     "duration": 0.053297,
     "end_time": "2020-12-02T07:45:26.164744",
     "exception": false,
     "start_time": "2020-12-02T07:45:26.111447",
     "status": "completed"
    },
    "tags": []
   },
   "outputs": [
    {
     "data": {
      "text/plain": [
       "RI      0\n",
       "Na      0\n",
       "Mg      0\n",
       "Al      0\n",
       "Si      0\n",
       "K       0\n",
       "Ca      0\n",
       "Ba      0\n",
       "Fe      0\n",
       "Type    0\n",
       "dtype: int64"
      ]
     },
     "execution_count": 6,
     "metadata": {},
     "output_type": "execute_result"
    }
   ],
   "source": [
    "np.sum(df.isnull())"
   ]
  },
  {
   "cell_type": "markdown",
   "metadata": {
    "id": "deUtXA-VFnpG",
    "papermill": {
     "duration": 0.040255,
     "end_time": "2020-12-02T07:45:26.242954",
     "exception": false,
     "start_time": "2020-12-02T07:45:26.202699",
     "status": "completed"
    },
    "tags": []
   },
   "source": [
    "# Identifing No of Classes"
   ]
  },
  {
   "cell_type": "code",
   "execution_count": 7,
   "metadata": {
    "execution": {
     "iopub.execute_input": "2020-12-02T07:45:26.327320Z",
     "iopub.status.busy": "2020-12-02T07:45:26.326172Z",
     "iopub.status.idle": "2020-12-02T07:45:26.330646Z",
     "shell.execute_reply": "2020-12-02T07:45:26.329998Z"
    },
    "id": "ki8yx9jtFnpH",
    "outputId": "ef150e59-8e9f-46aa-9ce9-e658956285ce",
    "papermill": {
     "duration": 0.048108,
     "end_time": "2020-12-02T07:45:26.330776",
     "exception": false,
     "start_time": "2020-12-02T07:45:26.282668",
     "status": "completed"
    },
    "tags": []
   },
   "outputs": [
    {
     "data": {
      "text/plain": [
       "array([1, 2, 3, 5, 6, 7])"
      ]
     },
     "execution_count": 7,
     "metadata": {},
     "output_type": "execute_result"
    }
   ],
   "source": [
    "df['Type'].unique()"
   ]
  },
  {
   "cell_type": "code",
   "execution_count": 8,
   "metadata": {
    "execution": {
     "iopub.execute_input": "2020-12-02T07:45:26.434771Z",
     "iopub.status.busy": "2020-12-02T07:45:26.431599Z",
     "iopub.status.idle": "2020-12-02T07:45:26.440896Z",
     "shell.execute_reply": "2020-12-02T07:45:26.440009Z"
    },
    "id": "bW6GfK-vFnpH",
    "outputId": "49083b3f-902e-4218-a9bb-e912551f1b64",
    "papermill": {
     "duration": 0.071424,
     "end_time": "2020-12-02T07:45:26.441047",
     "exception": false,
     "start_time": "2020-12-02T07:45:26.369623",
     "status": "completed"
    },
    "tags": []
   },
   "outputs": [
    {
     "data": {
      "text/html": [
       "<div>\n",
       "<style scoped>\n",
       "    .dataframe tbody tr th:only-of-type {\n",
       "        vertical-align: middle;\n",
       "    }\n",
       "\n",
       "    .dataframe tbody tr th {\n",
       "        vertical-align: top;\n",
       "    }\n",
       "\n",
       "    .dataframe thead th {\n",
       "        text-align: right;\n",
       "    }\n",
       "</style>\n",
       "<table border=\"1\" class=\"dataframe\">\n",
       "  <thead>\n",
       "    <tr style=\"text-align: right;\">\n",
       "      <th></th>\n",
       "      <th>RI</th>\n",
       "      <th>Na</th>\n",
       "      <th>Mg</th>\n",
       "      <th>Al</th>\n",
       "      <th>Si</th>\n",
       "      <th>K</th>\n",
       "      <th>Ca</th>\n",
       "      <th>Ba</th>\n",
       "      <th>Fe</th>\n",
       "    </tr>\n",
       "  </thead>\n",
       "  <tbody>\n",
       "    <tr>\n",
       "      <th>0</th>\n",
       "      <td>1.52101</td>\n",
       "      <td>13.64</td>\n",
       "      <td>4.49</td>\n",
       "      <td>1.10</td>\n",
       "      <td>71.78</td>\n",
       "      <td>0.06</td>\n",
       "      <td>8.75</td>\n",
       "      <td>0.00</td>\n",
       "      <td>0.0</td>\n",
       "    </tr>\n",
       "    <tr>\n",
       "      <th>1</th>\n",
       "      <td>1.51761</td>\n",
       "      <td>13.89</td>\n",
       "      <td>3.60</td>\n",
       "      <td>1.36</td>\n",
       "      <td>72.73</td>\n",
       "      <td>0.48</td>\n",
       "      <td>7.83</td>\n",
       "      <td>0.00</td>\n",
       "      <td>0.0</td>\n",
       "    </tr>\n",
       "    <tr>\n",
       "      <th>2</th>\n",
       "      <td>1.51618</td>\n",
       "      <td>13.53</td>\n",
       "      <td>3.55</td>\n",
       "      <td>1.54</td>\n",
       "      <td>72.99</td>\n",
       "      <td>0.39</td>\n",
       "      <td>7.78</td>\n",
       "      <td>0.00</td>\n",
       "      <td>0.0</td>\n",
       "    </tr>\n",
       "    <tr>\n",
       "      <th>3</th>\n",
       "      <td>1.51766</td>\n",
       "      <td>13.21</td>\n",
       "      <td>3.69</td>\n",
       "      <td>1.29</td>\n",
       "      <td>72.61</td>\n",
       "      <td>0.57</td>\n",
       "      <td>8.22</td>\n",
       "      <td>0.00</td>\n",
       "      <td>0.0</td>\n",
       "    </tr>\n",
       "    <tr>\n",
       "      <th>4</th>\n",
       "      <td>1.51742</td>\n",
       "      <td>13.27</td>\n",
       "      <td>3.62</td>\n",
       "      <td>1.24</td>\n",
       "      <td>73.08</td>\n",
       "      <td>0.55</td>\n",
       "      <td>8.07</td>\n",
       "      <td>0.00</td>\n",
       "      <td>0.0</td>\n",
       "    </tr>\n",
       "    <tr>\n",
       "      <th>...</th>\n",
       "      <td>...</td>\n",
       "      <td>...</td>\n",
       "      <td>...</td>\n",
       "      <td>...</td>\n",
       "      <td>...</td>\n",
       "      <td>...</td>\n",
       "      <td>...</td>\n",
       "      <td>...</td>\n",
       "      <td>...</td>\n",
       "    </tr>\n",
       "    <tr>\n",
       "      <th>209</th>\n",
       "      <td>1.51623</td>\n",
       "      <td>14.14</td>\n",
       "      <td>0.00</td>\n",
       "      <td>2.88</td>\n",
       "      <td>72.61</td>\n",
       "      <td>0.08</td>\n",
       "      <td>9.18</td>\n",
       "      <td>1.06</td>\n",
       "      <td>0.0</td>\n",
       "    </tr>\n",
       "    <tr>\n",
       "      <th>210</th>\n",
       "      <td>1.51685</td>\n",
       "      <td>14.92</td>\n",
       "      <td>0.00</td>\n",
       "      <td>1.99</td>\n",
       "      <td>73.06</td>\n",
       "      <td>0.00</td>\n",
       "      <td>8.40</td>\n",
       "      <td>1.59</td>\n",
       "      <td>0.0</td>\n",
       "    </tr>\n",
       "    <tr>\n",
       "      <th>211</th>\n",
       "      <td>1.52065</td>\n",
       "      <td>14.36</td>\n",
       "      <td>0.00</td>\n",
       "      <td>2.02</td>\n",
       "      <td>73.42</td>\n",
       "      <td>0.00</td>\n",
       "      <td>8.44</td>\n",
       "      <td>1.64</td>\n",
       "      <td>0.0</td>\n",
       "    </tr>\n",
       "    <tr>\n",
       "      <th>212</th>\n",
       "      <td>1.51651</td>\n",
       "      <td>14.38</td>\n",
       "      <td>0.00</td>\n",
       "      <td>1.94</td>\n",
       "      <td>73.61</td>\n",
       "      <td>0.00</td>\n",
       "      <td>8.48</td>\n",
       "      <td>1.57</td>\n",
       "      <td>0.0</td>\n",
       "    </tr>\n",
       "    <tr>\n",
       "      <th>213</th>\n",
       "      <td>1.51711</td>\n",
       "      <td>14.23</td>\n",
       "      <td>0.00</td>\n",
       "      <td>2.08</td>\n",
       "      <td>73.36</td>\n",
       "      <td>0.00</td>\n",
       "      <td>8.62</td>\n",
       "      <td>1.67</td>\n",
       "      <td>0.0</td>\n",
       "    </tr>\n",
       "  </tbody>\n",
       "</table>\n",
       "<p>214 rows × 9 columns</p>\n",
       "</div>"
      ],
      "text/plain": [
       "          RI     Na    Mg    Al     Si     K    Ca    Ba   Fe\n",
       "0    1.52101  13.64  4.49  1.10  71.78  0.06  8.75  0.00  0.0\n",
       "1    1.51761  13.89  3.60  1.36  72.73  0.48  7.83  0.00  0.0\n",
       "2    1.51618  13.53  3.55  1.54  72.99  0.39  7.78  0.00  0.0\n",
       "3    1.51766  13.21  3.69  1.29  72.61  0.57  8.22  0.00  0.0\n",
       "4    1.51742  13.27  3.62  1.24  73.08  0.55  8.07  0.00  0.0\n",
       "..       ...    ...   ...   ...    ...   ...   ...   ...  ...\n",
       "209  1.51623  14.14  0.00  2.88  72.61  0.08  9.18  1.06  0.0\n",
       "210  1.51685  14.92  0.00  1.99  73.06  0.00  8.40  1.59  0.0\n",
       "211  1.52065  14.36  0.00  2.02  73.42  0.00  8.44  1.64  0.0\n",
       "212  1.51651  14.38  0.00  1.94  73.61  0.00  8.48  1.57  0.0\n",
       "213  1.51711  14.23  0.00  2.08  73.36  0.00  8.62  1.67  0.0\n",
       "\n",
       "[214 rows x 9 columns]"
      ]
     },
     "execution_count": 8,
     "metadata": {},
     "output_type": "execute_result"
    }
   ],
   "source": [
    "X=df.drop('Type', axis=1)\n",
    "#X=X.drop('RI', axis=1)\n",
    "X"
   ]
  },
  {
   "cell_type": "code",
   "execution_count": 9,
   "metadata": {
    "execution": {
     "iopub.execute_input": "2020-12-02T07:45:26.528843Z",
     "iopub.status.busy": "2020-12-02T07:45:26.527617Z",
     "iopub.status.idle": "2020-12-02T07:45:26.533690Z",
     "shell.execute_reply": "2020-12-02T07:45:26.532735Z"
    },
    "id": "x8AcEaJjFnpH",
    "outputId": "048ad08e-3618-4482-86cb-0c85c6e3773e",
    "papermill": {
     "duration": 0.053675,
     "end_time": "2020-12-02T07:45:26.533850",
     "exception": false,
     "start_time": "2020-12-02T07:45:26.480175",
     "status": "completed"
    },
    "tags": []
   },
   "outputs": [
    {
     "data": {
      "text/plain": [
       "0      1\n",
       "1      1\n",
       "2      1\n",
       "3      1\n",
       "4      1\n",
       "      ..\n",
       "209    7\n",
       "210    7\n",
       "211    7\n",
       "212    7\n",
       "213    7\n",
       "Name: Type, Length: 214, dtype: int64"
      ]
     },
     "execution_count": 9,
     "metadata": {},
     "output_type": "execute_result"
    }
   ],
   "source": [
    "Y=df['Type']\n",
    "Y"
   ]
  },
  {
   "cell_type": "markdown",
   "metadata": {
    "id": "e4NJcIEOFnpI",
    "papermill": {
     "duration": 0.040141,
     "end_time": "2020-12-02T07:45:26.616515",
     "exception": false,
     "start_time": "2020-12-02T07:45:26.576374",
     "status": "completed"
    },
    "tags": []
   },
   "source": [
    "# Handling imbalanced data using SMOTETomek"
   ]
  },
  {
   "cell_type": "code",
   "execution_count": 10,
   "metadata": {
    "execution": {
     "iopub.execute_input": "2020-12-02T07:45:26.704133Z",
     "iopub.status.busy": "2020-12-02T07:45:26.702733Z",
     "iopub.status.idle": "2020-12-02T07:45:26.706000Z",
     "shell.execute_reply": "2020-12-02T07:45:26.706695Z"
    },
    "id": "FgEMCP5DFnpI",
    "papermill": {
     "duration": 0.050125,
     "end_time": "2020-12-02T07:45:26.706937",
     "exception": false,
     "start_time": "2020-12-02T07:45:26.656812",
     "status": "completed"
    },
    "tags": []
   },
   "outputs": [],
   "source": [
    "from imblearn.combine import SMOTETomek"
   ]
  },
  {
   "cell_type": "code",
   "execution_count": 11,
   "metadata": {
    "execution": {
     "iopub.execute_input": "2020-12-02T07:45:26.803634Z",
     "iopub.status.busy": "2020-12-02T07:45:26.799786Z",
     "iopub.status.idle": "2020-12-02T07:45:26.857827Z",
     "shell.execute_reply": "2020-12-02T07:45:26.858510Z"
    },
    "id": "vbOU891CFnpI",
    "outputId": "8a0cdc23-4b7b-498b-a8fe-c529c0641ae6",
    "papermill": {
     "duration": 0.111338,
     "end_time": "2020-12-02T07:45:26.858702",
     "exception": false,
     "start_time": "2020-12-02T07:45:26.747364",
     "status": "completed"
    },
    "tags": []
   },
   "outputs": [],
   "source": [
    "smt=SMOTETomek(random_state=42)\n",
    "x_res, y_res= smt.fit_sample(X,Y)"
   ]
  },
  {
   "cell_type": "code",
   "execution_count": 12,
   "metadata": {
    "execution": {
     "iopub.execute_input": "2020-12-02T07:45:26.949224Z",
     "iopub.status.busy": "2020-12-02T07:45:26.948151Z",
     "iopub.status.idle": "2020-12-02T07:45:26.960040Z",
     "shell.execute_reply": "2020-12-02T07:45:26.959167Z"
    },
    "id": "xog2X_EtFnpI",
    "outputId": "1eecc32d-77a5-4fb7-b2fd-605ef15dfe76",
    "papermill": {
     "duration": 0.060393,
     "end_time": "2020-12-02T07:45:26.960204",
     "exception": false,
     "start_time": "2020-12-02T07:45:26.899811",
     "status": "completed"
    },
    "tags": []
   },
   "outputs": [
    {
     "name": "stdout",
     "output_type": "stream",
     "text": [
      "347\n",
      "87\n",
      "347\n",
      "87\n"
     ]
    }
   ],
   "source": [
    "from sklearn.model_selection import train_test_split\n",
    "\n",
    "\n",
    "x_train, x_test, y_train, y_test= train_test_split(x_res,y_res, random_state=42, test_size=0.2, stratify=y_res)\n",
    "print(len(x_train))\n",
    "print(len(x_test))\n",
    "print(len(y_train))\n",
    "print(len(y_test))"
   ]
  },
  {
   "cell_type": "code",
   "execution_count": 13,
   "metadata": {
    "execution": {
     "iopub.execute_input": "2020-12-02T07:45:27.055728Z",
     "iopub.status.busy": "2020-12-02T07:45:27.054071Z",
     "iopub.status.idle": "2020-12-02T07:45:27.066063Z",
     "shell.execute_reply": "2020-12-02T07:45:27.064907Z"
    },
    "id": "VrwBVEQsFnpI",
    "outputId": "779cf868-e0f5-417a-a91c-62a8e6e27d12",
    "papermill": {
     "duration": 0.065374,
     "end_time": "2020-12-02T07:45:27.066265",
     "exception": false,
     "start_time": "2020-12-02T07:45:27.000891",
     "status": "completed"
    },
    "tags": []
   },
   "outputs": [
    {
     "name": "stdout",
     "output_type": "stream",
     "text": [
      "Ca....214\n",
      "Ba....214\n",
      "Al....214\n",
      "Mg....214\n",
      "K....214\n",
      "Si....214\n",
      "Na....214\n",
      "RI....214\n",
      "Fe....214\n"
     ]
    }
   ],
   "source": [
    "for x in set(X):\n",
    "    print('{}....{}'.format(x,len(X[X==x])))"
   ]
  },
  {
   "cell_type": "code",
   "execution_count": 14,
   "metadata": {
    "execution": {
     "iopub.execute_input": "2020-12-02T07:45:27.169770Z",
     "iopub.status.busy": "2020-12-02T07:45:27.168695Z",
     "iopub.status.idle": "2020-12-02T07:45:27.175256Z",
     "shell.execute_reply": "2020-12-02T07:45:27.173411Z"
    },
    "id": "kkRV2ZKVFnpJ",
    "outputId": "2119d4ab-e464-43ba-8888-938927815efc",
    "papermill": {
     "duration": 0.062935,
     "end_time": "2020-12-02T07:45:27.175441",
     "exception": false,
     "start_time": "2020-12-02T07:45:27.112506",
     "status": "completed"
    },
    "tags": []
   },
   "outputs": [
    {
     "name": "stdout",
     "output_type": "stream",
     "text": [
      "1....70\n",
      "2....76\n",
      "3....17\n",
      "5....13\n",
      "6....9\n",
      "7....29\n"
     ]
    }
   ],
   "source": [
    "for y in set(Y):\n",
    "    print('{}....{}'.format(y,len(Y[Y==y])))"
   ]
  },
  {
   "cell_type": "code",
   "execution_count": 15,
   "metadata": {
    "execution": {
     "iopub.execute_input": "2020-12-02T07:45:27.273193Z",
     "iopub.status.busy": "2020-12-02T07:45:27.272003Z",
     "iopub.status.idle": "2020-12-02T07:45:27.276085Z",
     "shell.execute_reply": "2020-12-02T07:45:27.275365Z"
    },
    "id": "LlTNT4u8FnpM",
    "papermill": {
     "duration": 0.055823,
     "end_time": "2020-12-02T07:45:27.276229",
     "exception": false,
     "start_time": "2020-12-02T07:45:27.220406",
     "status": "completed"
    },
    "tags": []
   },
   "outputs": [],
   "source": [
    "parms={\n",
    "    'n_estimators':[100],\n",
    "    'max_depth':[7],\n",
    "    'learning_rate':[1],\n",
    "    'gamma':[0.1,1,0.5,0],\n",
    "    'subsample':[0.7],\n",
    "    'colsample_bylevel':[0.1,0.3],\n",
    "    'colsample_bytree':[0.3,0.5,0.7],\n",
    "    'min_child_weight':[0.1,0.3],\n",
    "    'reg_lambda':[0,1,0.5]\n",
    "}\n",
    "\n",
    "#'colsample_bylevel': 0.1,\n",
    "# 'colsample_bytree': 0.3,\n",
    "# 'gamma': 0.1,\n",
    "# 'learning_rate': 1,\n",
    "# 'max_depth': 7,\n",
    "# 'min_child_weight': 0.1,\n",
    "# 'n_estimators': 100,\n",
    "# 'reg_lambda': 1,\n",
    "# 'subsample': 0.7"
   ]
  },
  {
   "cell_type": "code",
   "execution_count": 16,
   "metadata": {
    "execution": {
     "iopub.execute_input": "2020-12-02T07:45:27.374414Z",
     "iopub.status.busy": "2020-12-02T07:45:27.373121Z",
     "iopub.status.idle": "2020-12-02T07:46:25.175207Z",
     "shell.execute_reply": "2020-12-02T07:46:25.176041Z"
    },
    "id": "N7ycgrOVFnpM",
    "outputId": "5f875e45-309a-40a6-eecb-d54e81f65f7b",
    "papermill": {
     "duration": 57.857169,
     "end_time": "2020-12-02T07:46:25.176257",
     "exception": false,
     "start_time": "2020-12-02T07:45:27.319088",
     "status": "completed"
    },
    "tags": []
   },
   "outputs": [
    {
     "data": {
      "text/plain": [
       "GridSearchCV(cv=10,\n",
       "             estimator=XGBClassifier(base_score=None, booster=None,\n",
       "                                     colsample_bylevel=None,\n",
       "                                     colsample_bynode=None,\n",
       "                                     colsample_bytree=None, gamma=None,\n",
       "                                     gpu_id=None, importance_type='gain',\n",
       "                                     interaction_constraints=None,\n",
       "                                     learning_rate=None, max_delta_step=None,\n",
       "                                     max_depth=None, min_child_weight=None,\n",
       "                                     missing=nan, monotone_constraints=None,\n",
       "                                     n_estimators=100, n_job...\n",
       "                                     scale_pos_weight=None, subsample=None,\n",
       "                                     tree_method=None, validate_parameters=None,\n",
       "                                     verbosity=None),\n",
       "             n_jobs=-1,\n",
       "             param_grid={'colsample_bylevel': [0.1, 0.3],\n",
       "                         'colsample_bytree': [0.3, 0.5, 0.7],\n",
       "                         'gamma': [0.1, 1, 0.5, 0], 'learning_rate': [1],\n",
       "                         'max_depth': [7], 'min_child_weight': [0.1, 0.3],\n",
       "                         'n_estimators': [100], 'reg_lambda': [0, 1, 0.5],\n",
       "                         'subsample': [0.7]},\n",
       "             scoring=make_scorer(f1_score, average=macro))"
      ]
     },
     "execution_count": 16,
     "metadata": {},
     "output_type": "execute_result"
    }
   ],
   "source": [
    "from sklearn.model_selection import GridSearchCV \n",
    "from sklearn.model_selection import cross_val_predict\n",
    "from sklearn.metrics import f1_score, make_scorer\n",
    "\n",
    "xg=xgboost.XGBClassifier()\n",
    "#xg.fit(x_train, y_train)\n",
    "f1=make_scorer(f1_score, average='macro')\n",
    "grids=GridSearchCV(xg, param_grid=parms, cv=10, n_jobs=-1, scoring=f1)\n",
    "grids.fit(x_train, y_train)"
   ]
  },
  {
   "cell_type": "code",
   "execution_count": 17,
   "metadata": {
    "execution": {
     "iopub.execute_input": "2020-12-02T07:46:25.312738Z",
     "iopub.status.busy": "2020-12-02T07:46:25.311511Z",
     "iopub.status.idle": "2020-12-02T07:46:25.338070Z",
     "shell.execute_reply": "2020-12-02T07:46:25.338842Z"
    },
    "id": "1DFj9d08FnpM",
    "outputId": "f47a9c3e-f953-497a-9d97-8af600076b05",
    "papermill": {
     "duration": 0.095891,
     "end_time": "2020-12-02T07:46:25.339038",
     "exception": false,
     "start_time": "2020-12-02T07:46:25.243147",
     "status": "completed"
    },
    "tags": []
   },
   "outputs": [
    {
     "name": "stdout",
     "output_type": "stream",
     "text": [
      "[[54  0  0  0  0  0]\n",
      " [ 0 57  0  0  0  0]\n",
      " [ 0  0 54  0  0  0]\n",
      " [ 0  0  0 61  0  0]\n",
      " [ 0  0  0  0 61  0]\n",
      " [ 0  0  0  0  0 60]]\n",
      "\n",
      "\n",
      "              precision    recall  f1-score   support\n",
      "\n",
      "           1       1.00      1.00      1.00        54\n",
      "           2       1.00      1.00      1.00        57\n",
      "           3       1.00      1.00      1.00        54\n",
      "           5       1.00      1.00      1.00        61\n",
      "           6       1.00      1.00      1.00        61\n",
      "           7       1.00      1.00      1.00        60\n",
      "\n",
      "    accuracy                           1.00       347\n",
      "   macro avg       1.00      1.00      1.00       347\n",
      "weighted avg       1.00      1.00      1.00       347\n",
      "\n"
     ]
    }
   ],
   "source": [
    "from sklearn.metrics import confusion_matrix\n",
    "\n",
    "y_train_pred=grids.predict(x_train)\n",
    "print(confusion_matrix(y_train, y_train_pred))\n",
    "print()\n",
    "print()\n",
    "from sklearn.metrics import classification_report\n",
    "\n",
    "print(classification_report(y_train, y_train_pred))"
   ]
  },
  {
   "cell_type": "code",
   "execution_count": 18,
   "metadata": {
    "execution": {
     "iopub.execute_input": "2020-12-02T07:46:25.453413Z",
     "iopub.status.busy": "2020-12-02T07:46:25.452245Z",
     "iopub.status.idle": "2020-12-02T07:46:25.474234Z",
     "shell.execute_reply": "2020-12-02T07:46:25.474942Z"
    },
    "id": "vhIk-qGeFnpM",
    "outputId": "3931528f-4e3f-472a-b00e-48978eeca90e",
    "papermill": {
     "duration": 0.083348,
     "end_time": "2020-12-02T07:46:25.475147",
     "exception": false,
     "start_time": "2020-12-02T07:46:25.391799",
     "status": "completed"
    },
    "tags": []
   },
   "outputs": [
    {
     "name": "stdout",
     "output_type": "stream",
     "text": [
      "[[ 8  3  2  0  0  0]\n",
      " [ 3  9  1  2  0  0]\n",
      " [ 3  1 10  0  0  0]\n",
      " [ 0  0  0 14  0  1]\n",
      " [ 0  0  0  0 15  0]\n",
      " [ 0  0  0  0  0 15]]\n",
      "\n",
      "\n",
      "              precision    recall  f1-score   support\n",
      "\n",
      "           1       0.57      0.62      0.59        13\n",
      "           2       0.69      0.60      0.64        15\n",
      "           3       0.77      0.71      0.74        14\n",
      "           5       0.88      0.93      0.90        15\n",
      "           6       1.00      1.00      1.00        15\n",
      "           7       0.94      1.00      0.97        15\n",
      "\n",
      "    accuracy                           0.82        87\n",
      "   macro avg       0.81      0.81      0.81        87\n",
      "weighted avg       0.81      0.82      0.81        87\n",
      "\n"
     ]
    }
   ],
   "source": [
    "y_test_pred=grids.predict(x_test)\n",
    "print(confusion_matrix(y_test, y_test_pred))\n",
    "print()\n",
    "print()\n",
    "from sklearn.metrics import classification_report\n",
    "\n",
    "print(classification_report(y_test, y_test_pred))"
   ]
  },
  {
   "cell_type": "code",
   "execution_count": 19,
   "metadata": {
    "execution": {
     "iopub.execute_input": "2020-12-02T07:46:25.587516Z",
     "iopub.status.busy": "2020-12-02T07:46:25.586521Z",
     "iopub.status.idle": "2020-12-02T07:46:25.590207Z",
     "shell.execute_reply": "2020-12-02T07:46:25.591145Z"
    },
    "id": "VLW-PKN4OnIG",
    "outputId": "169fb035-ed0d-4a31-eadf-11de590cc0eb",
    "papermill": {
     "duration": 0.06345,
     "end_time": "2020-12-02T07:46:25.591341",
     "exception": false,
     "start_time": "2020-12-02T07:46:25.527891",
     "status": "completed"
    },
    "tags": []
   },
   "outputs": [
    {
     "data": {
      "text/plain": [
       "0.8972234247234248"
      ]
     },
     "execution_count": 19,
     "metadata": {},
     "output_type": "execute_result"
    }
   ],
   "source": [
    "grids.best_score_"
   ]
  },
  {
   "cell_type": "code",
   "execution_count": 20,
   "metadata": {
    "execution": {
     "iopub.execute_input": "2020-12-02T07:46:25.699584Z",
     "iopub.status.busy": "2020-12-02T07:46:25.698642Z",
     "iopub.status.idle": "2020-12-02T07:46:25.703586Z",
     "shell.execute_reply": "2020-12-02T07:46:25.702755Z"
    },
    "id": "Ql3oXokfOtWc",
    "outputId": "01ca76b2-376d-46e2-8d3d-9074d4651752",
    "papermill": {
     "duration": 0.056583,
     "end_time": "2020-12-02T07:46:25.703720",
     "exception": false,
     "start_time": "2020-12-02T07:46:25.647137",
     "status": "completed"
    },
    "tags": []
   },
   "outputs": [
    {
     "data": {
      "text/plain": [
       "{'colsample_bylevel': 0.1,\n",
       " 'colsample_bytree': 0.3,\n",
       " 'gamma': 0,\n",
       " 'learning_rate': 1,\n",
       " 'max_depth': 7,\n",
       " 'min_child_weight': 0.1,\n",
       " 'n_estimators': 100,\n",
       " 'reg_lambda': 1,\n",
       " 'subsample': 0.7}"
      ]
     },
     "execution_count": 20,
     "metadata": {},
     "output_type": "execute_result"
    }
   ],
   "source": [
    "grids.best_params_"
   ]
  },
  {
   "cell_type": "markdown",
   "metadata": {
    "id": "-HBtXW6lFnpM",
    "papermill": {
     "duration": 0.045896,
     "end_time": "2020-12-02T07:46:25.795151",
     "exception": false,
     "start_time": "2020-12-02T07:46:25.749255",
     "status": "completed"
    },
    "tags": []
   },
   "source": [
    "# Handling imbalanced data using OVERSAMPLING"
   ]
  },
  {
   "cell_type": "code",
   "execution_count": 21,
   "metadata": {
    "execution": {
     "iopub.execute_input": "2020-12-02T07:46:25.894011Z",
     "iopub.status.busy": "2020-12-02T07:46:25.892996Z",
     "iopub.status.idle": "2020-12-02T07:46:25.897310Z",
     "shell.execute_reply": "2020-12-02T07:46:25.896321Z"
    },
    "id": "vIzcJdPGFnpM",
    "papermill": {
     "duration": 0.056237,
     "end_time": "2020-12-02T07:46:25.897496",
     "exception": false,
     "start_time": "2020-12-02T07:46:25.841259",
     "status": "completed"
    },
    "tags": []
   },
   "outputs": [],
   "source": [
    "from imblearn.over_sampling import RandomOverSampler"
   ]
  },
  {
   "cell_type": "code",
   "execution_count": 22,
   "metadata": {
    "execution": {
     "iopub.execute_input": "2020-12-02T07:46:25.994964Z",
     "iopub.status.busy": "2020-12-02T07:46:25.993981Z",
     "iopub.status.idle": "2020-12-02T07:46:25.998298Z",
     "shell.execute_reply": "2020-12-02T07:46:25.997407Z"
    },
    "id": "SyG2pM9xFnpM",
    "papermill": {
     "duration": 0.054946,
     "end_time": "2020-12-02T07:46:25.998449",
     "exception": false,
     "start_time": "2020-12-02T07:46:25.943503",
     "status": "completed"
    },
    "tags": []
   },
   "outputs": [],
   "source": [
    "rs=RandomOverSampler()"
   ]
  },
  {
   "cell_type": "code",
   "execution_count": 23,
   "metadata": {
    "execution": {
     "iopub.execute_input": "2020-12-02T07:46:26.103153Z",
     "iopub.status.busy": "2020-12-02T07:46:26.097666Z",
     "iopub.status.idle": "2020-12-02T07:46:26.107762Z",
     "shell.execute_reply": "2020-12-02T07:46:26.107062Z"
    },
    "id": "xSBsKNsrFnpM",
    "outputId": "7f7b3b69-ee87-4844-86b1-a03398cd618a",
    "papermill": {
     "duration": 0.063611,
     "end_time": "2020-12-02T07:46:26.107897",
     "exception": false,
     "start_time": "2020-12-02T07:46:26.044286",
     "status": "completed"
    },
    "tags": []
   },
   "outputs": [],
   "source": [
    "x_res, y_res=rs.fit_sample(X,Y)"
   ]
  },
  {
   "cell_type": "code",
   "execution_count": 24,
   "metadata": {
    "execution": {
     "iopub.execute_input": "2020-12-02T07:46:26.210039Z",
     "iopub.status.busy": "2020-12-02T07:46:26.206487Z",
     "iopub.status.idle": "2020-12-02T07:46:26.215844Z",
     "shell.execute_reply": "2020-12-02T07:46:26.214915Z"
    },
    "id": "b14Oql45FnpM",
    "outputId": "d09030c4-5a77-455d-d098-392d88f7bed9",
    "papermill": {
     "duration": 0.062345,
     "end_time": "2020-12-02T07:46:26.216019",
     "exception": false,
     "start_time": "2020-12-02T07:46:26.153674",
     "status": "completed"
    },
    "tags": []
   },
   "outputs": [
    {
     "name": "stdout",
     "output_type": "stream",
     "text": [
      "364\n",
      "92\n",
      "364\n",
      "92\n"
     ]
    }
   ],
   "source": [
    "from sklearn.model_selection import train_test_split\n",
    "\n",
    "\n",
    "x_train, x_test, y_train, y_test= train_test_split(x_res,y_res, random_state=42, test_size=0.2, stratify=y_res)\n",
    "print(len(x_train))\n",
    "print(len(x_test))\n",
    "print(len(y_train))\n",
    "print(len(y_test))"
   ]
  },
  {
   "cell_type": "code",
   "execution_count": 25,
   "metadata": {
    "execution": {
     "iopub.execute_input": "2020-12-02T07:46:26.326725Z",
     "iopub.status.busy": "2020-12-02T07:46:26.325721Z",
     "iopub.status.idle": "2020-12-02T07:46:26.340551Z",
     "shell.execute_reply": "2020-12-02T07:46:26.339365Z"
    },
    "id": "ep8kDAMtFnpM",
    "outputId": "60ade68b-8d45-43d2-b4cb-90d9fc2bc768",
    "papermill": {
     "duration": 0.078592,
     "end_time": "2020-12-02T07:46:26.340700",
     "exception": false,
     "start_time": "2020-12-02T07:46:26.262108",
     "status": "completed"
    },
    "tags": []
   },
   "outputs": [
    {
     "name": "stdout",
     "output_type": "stream",
     "text": [
      "Ca....214\n",
      "Ba....214\n",
      "Al....214\n",
      "Mg....214\n",
      "K....214\n",
      "Si....214\n",
      "Na....214\n",
      "RI....214\n",
      "Fe....214\n"
     ]
    }
   ],
   "source": [
    "for x in set(X):\n",
    "    print('{}....{}'.format(x,len(X[X==x])))"
   ]
  },
  {
   "cell_type": "code",
   "execution_count": 26,
   "metadata": {
    "execution": {
     "iopub.execute_input": "2020-12-02T07:46:26.445009Z",
     "iopub.status.busy": "2020-12-02T07:46:26.443849Z",
     "iopub.status.idle": "2020-12-02T07:46:26.449552Z",
     "shell.execute_reply": "2020-12-02T07:46:26.448639Z"
    },
    "id": "pB5ZXK6ZFnpM",
    "outputId": "0bfcec7c-0542-4c1e-90f5-4d0e3a644a0c",
    "papermill": {
     "duration": 0.060826,
     "end_time": "2020-12-02T07:46:26.449727",
     "exception": false,
     "start_time": "2020-12-02T07:46:26.388901",
     "status": "completed"
    },
    "tags": []
   },
   "outputs": [
    {
     "name": "stdout",
     "output_type": "stream",
     "text": [
      "1....70\n",
      "2....76\n",
      "3....17\n",
      "5....13\n",
      "6....9\n",
      "7....29\n"
     ]
    }
   ],
   "source": [
    "for y in set(Y):\n",
    "    print('{}....{}'.format(y,len(Y[Y==y])))"
   ]
  },
  {
   "cell_type": "code",
   "execution_count": 27,
   "metadata": {
    "execution": {
     "iopub.execute_input": "2020-12-02T07:46:26.554408Z",
     "iopub.status.busy": "2020-12-02T07:46:26.553351Z",
     "iopub.status.idle": "2020-12-02T07:46:26.556524Z",
     "shell.execute_reply": "2020-12-02T07:46:26.555884Z"
    },
    "id": "TPYp-SC1NdQA",
    "papermill": {
     "duration": 0.058663,
     "end_time": "2020-12-02T07:46:26.556660",
     "exception": false,
     "start_time": "2020-12-02T07:46:26.497997",
     "status": "completed"
    },
    "tags": []
   },
   "outputs": [],
   "source": [
    "parms={\n",
    "    'n_estimators':[100],\n",
    "    'max_depth':[7],\n",
    "    'learning_rate':[1,0.1,0.5],\n",
    "    'gamma':[0.1,1,0.5],\n",
    "    'subsample':[0.7],\n",
    "    'colsample_bylevel':[0.1],\n",
    "    'colsample_bytree':[0.3,0.7,0.5],\n",
    "    'min_child_weight':[0.3,0.7,0.5,1],\n",
    "    'reg_lambda':[0,1,0.5]\n",
    "}\n",
    "\n",
    "#'colsample_bylevel': 0.1,\n",
    "# 'colsample_bytree': 0.3,\n",
    "# 'gamma': 0.1,\n",
    "# 'learning_rate': 1,\n",
    "# 'max_depth': 7,\n",
    "# 'min_child_weight': 0.3,\n",
    "# 'n_estimators': 100,\n",
    "# 'reg_lambda': 0,\n",
    "# 'subsample': 0.7}"
   ]
  },
  {
   "cell_type": "code",
   "execution_count": 28,
   "metadata": {
    "execution": {
     "iopub.execute_input": "2020-12-02T07:46:26.662544Z",
     "iopub.status.busy": "2020-12-02T07:46:26.661698Z",
     "iopub.status.idle": "2020-12-02T07:48:32.024485Z",
     "shell.execute_reply": "2020-12-02T07:48:32.025323Z"
    },
    "id": "D90BC4MqNtI-",
    "outputId": "3f0afed9-ec22-4090-ebd5-75a900d6becf",
    "papermill": {
     "duration": 125.421768,
     "end_time": "2020-12-02T07:48:32.025579",
     "exception": false,
     "start_time": "2020-12-02T07:46:26.603811",
     "status": "completed"
    },
    "tags": []
   },
   "outputs": [
    {
     "data": {
      "text/plain": [
       "GridSearchCV(cv=10,\n",
       "             estimator=XGBClassifier(base_score=None, booster=None,\n",
       "                                     colsample_bylevel=None,\n",
       "                                     colsample_bynode=None,\n",
       "                                     colsample_bytree=None, gamma=None,\n",
       "                                     gpu_id=None, importance_type='gain',\n",
       "                                     interaction_constraints=None,\n",
       "                                     learning_rate=None, max_delta_step=None,\n",
       "                                     max_depth=None, min_child_weight=None,\n",
       "                                     missing=nan, monotone_constraints=None,\n",
       "                                     n_estimators=100, n_job...\n",
       "                                     scale_pos_weight=None, subsample=None,\n",
       "                                     tree_method=None, validate_parameters=None,\n",
       "                                     verbosity=None),\n",
       "             n_jobs=-1,\n",
       "             param_grid={'colsample_bylevel': [0.1],\n",
       "                         'colsample_bytree': [0.3, 0.7, 0.5],\n",
       "                         'gamma': [0.1, 1, 0.5], 'learning_rate': [1, 0.1, 0.5],\n",
       "                         'max_depth': [7],\n",
       "                         'min_child_weight': [0.3, 0.7, 0.5, 1],\n",
       "                         'n_estimators': [100], 'reg_lambda': [0, 1, 0.5],\n",
       "                         'subsample': [0.7]},\n",
       "             scoring=make_scorer(f1_score, average=macro))"
      ]
     },
     "execution_count": 28,
     "metadata": {},
     "output_type": "execute_result"
    }
   ],
   "source": [
    "from sklearn.model_selection import GridSearchCV \n",
    "from sklearn.model_selection import cross_val_predict\n",
    "from sklearn.metrics import f1_score, make_scorer\n",
    "\n",
    "xg=xgboost.XGBClassifier()\n",
    "#xg.fit(x_train, y_train)\n",
    "f1=make_scorer(f1_score, average='macro')\n",
    "grids=GridSearchCV(xg, param_grid=parms, cv=10, n_jobs=-1, scoring=f1)\n",
    "grids.fit(x_train, y_train)"
   ]
  },
  {
   "cell_type": "code",
   "execution_count": 29,
   "metadata": {
    "execution": {
     "iopub.execute_input": "2020-12-02T07:48:32.152487Z",
     "iopub.status.busy": "2020-12-02T07:48:32.151257Z",
     "iopub.status.idle": "2020-12-02T07:48:32.171662Z",
     "shell.execute_reply": "2020-12-02T07:48:32.170721Z"
    },
    "id": "oOfO0J-WFnpN",
    "outputId": "8ac1b2b7-2bec-482e-e54c-e8550732b88c",
    "papermill": {
     "duration": 0.087542,
     "end_time": "2020-12-02T07:48:32.171842",
     "exception": false,
     "start_time": "2020-12-02T07:48:32.084300",
     "status": "completed"
    },
    "tags": []
   },
   "outputs": [
    {
     "name": "stdout",
     "output_type": "stream",
     "text": [
      "[[61  0  0  0  0  0]\n",
      " [ 0 61  0  0  0  0]\n",
      " [ 0  0 61  0  0  0]\n",
      " [ 0  0  0 60  0  0]\n",
      " [ 0  0  0  0 60  0]\n",
      " [ 0  0  0  0  0 61]]\n",
      "\n",
      "\n",
      "              precision    recall  f1-score   support\n",
      "\n",
      "           1       1.00      1.00      1.00        61\n",
      "           2       1.00      1.00      1.00        61\n",
      "           3       1.00      1.00      1.00        61\n",
      "           5       1.00      1.00      1.00        60\n",
      "           6       1.00      1.00      1.00        60\n",
      "           7       1.00      1.00      1.00        61\n",
      "\n",
      "    accuracy                           1.00       364\n",
      "   macro avg       1.00      1.00      1.00       364\n",
      "weighted avg       1.00      1.00      1.00       364\n",
      "\n"
     ]
    }
   ],
   "source": [
    "from sklearn.metrics import confusion_matrix\n",
    "\n",
    "y_train_pred=grids.predict(x_train)\n",
    "print(confusion_matrix(y_train, y_train_pred))\n",
    "print()\n",
    "print()\n",
    "from sklearn.metrics import classification_report\n",
    "\n",
    "print(classification_report(y_train, y_train_pred))"
   ]
  },
  {
   "cell_type": "code",
   "execution_count": 30,
   "metadata": {
    "execution": {
     "iopub.execute_input": "2020-12-02T07:48:32.301067Z",
     "iopub.status.busy": "2020-12-02T07:48:32.299941Z",
     "iopub.status.idle": "2020-12-02T07:48:32.316816Z",
     "shell.execute_reply": "2020-12-02T07:48:32.318212Z"
    },
    "id": "J5lPeK6EFnpN",
    "outputId": "4ef188c8-7db7-4e2c-d059-7c7e482173d0",
    "papermill": {
     "duration": 0.087644,
     "end_time": "2020-12-02T07:48:32.318547",
     "exception": false,
     "start_time": "2020-12-02T07:48:32.230903",
     "status": "completed"
    },
    "tags": []
   },
   "outputs": [
    {
     "name": "stdout",
     "output_type": "stream",
     "text": [
      "[[12  1  2  0  0  0]\n",
      " [ 2 11  0  1  0  1]\n",
      " [ 0  0 15  0  0  0]\n",
      " [ 0  0  0 16  0  0]\n",
      " [ 0  0  0  0 16  0]\n",
      " [ 0  0  0  0  0 15]]\n",
      "\n",
      "\n",
      "              precision    recall  f1-score   support\n",
      "\n",
      "           1       0.86      0.80      0.83        15\n",
      "           2       0.92      0.73      0.81        15\n",
      "           3       0.88      1.00      0.94        15\n",
      "           5       0.94      1.00      0.97        16\n",
      "           6       1.00      1.00      1.00        16\n",
      "           7       0.94      1.00      0.97        15\n",
      "\n",
      "    accuracy                           0.92        92\n",
      "   macro avg       0.92      0.92      0.92        92\n",
      "weighted avg       0.92      0.92      0.92        92\n",
      "\n"
     ]
    }
   ],
   "source": [
    "y_test_pred=grids.predict(x_test)\n",
    "print(confusion_matrix(y_test, y_test_pred))\n",
    "print()\n",
    "print()\n",
    "from sklearn.metrics import classification_report\n",
    "\n",
    "print(classification_report(y_test, y_test_pred))"
   ]
  },
  {
   "cell_type": "code",
   "execution_count": null,
   "metadata": {
    "id": "pNwDAGnUFnpN",
    "papermill": {
     "duration": 0.060655,
     "end_time": "2020-12-02T07:48:32.441679",
     "exception": false,
     "start_time": "2020-12-02T07:48:32.381024",
     "status": "completed"
    },
    "tags": []
   },
   "outputs": [],
   "source": []
  },
  {
   "cell_type": "code",
   "execution_count": 31,
   "metadata": {
    "execution": {
     "iopub.execute_input": "2020-12-02T07:48:32.557683Z",
     "iopub.status.busy": "2020-12-02T07:48:32.556587Z",
     "iopub.status.idle": "2020-12-02T07:48:32.561934Z",
     "shell.execute_reply": "2020-12-02T07:48:32.561076Z"
    },
    "id": "2_tEaf28FnpX",
    "outputId": "dada3c17-c9b5-4c2d-cb27-659bd62e6f08",
    "papermill": {
     "duration": 0.060931,
     "end_time": "2020-12-02T07:48:32.562141",
     "exception": false,
     "start_time": "2020-12-02T07:48:32.501210",
     "status": "completed"
    },
    "tags": []
   },
   "outputs": [
    {
     "data": {
      "text/plain": [
       "0.9358330558330559"
      ]
     },
     "execution_count": 31,
     "metadata": {},
     "output_type": "execute_result"
    }
   ],
   "source": [
    "grids.best_score_"
   ]
  },
  {
   "cell_type": "code",
   "execution_count": 32,
   "metadata": {
    "execution": {
     "iopub.execute_input": "2020-12-02T07:48:32.669819Z",
     "iopub.status.busy": "2020-12-02T07:48:32.668738Z",
     "iopub.status.idle": "2020-12-02T07:48:32.674031Z",
     "shell.execute_reply": "2020-12-02T07:48:32.673336Z"
    },
    "id": "1882m0pQFnpX",
    "outputId": "eeac79c2-0cad-48bf-dd14-b7045267086d",
    "papermill": {
     "duration": 0.061335,
     "end_time": "2020-12-02T07:48:32.674186",
     "exception": false,
     "start_time": "2020-12-02T07:48:32.612851",
     "status": "completed"
    },
    "tags": []
   },
   "outputs": [
    {
     "data": {
      "text/plain": [
       "{'colsample_bylevel': 0.1,\n",
       " 'colsample_bytree': 0.5,\n",
       " 'gamma': 0.5,\n",
       " 'learning_rate': 0.1,\n",
       " 'max_depth': 7,\n",
       " 'min_child_weight': 0.7,\n",
       " 'n_estimators': 100,\n",
       " 'reg_lambda': 0,\n",
       " 'subsample': 0.7}"
      ]
     },
     "execution_count": 32,
     "metadata": {},
     "output_type": "execute_result"
    }
   ],
   "source": [
    "grids.best_params_"
   ]
  },
  {
   "cell_type": "markdown",
   "metadata": {
    "id": "wk8ca5CdX9er",
    "papermill": {
     "duration": 0.050308,
     "end_time": "2020-12-02T07:48:32.775838",
     "exception": false,
     "start_time": "2020-12-02T07:48:32.725530",
     "status": "completed"
    },
    "tags": []
   },
   "source": [
    "#Final Model"
   ]
  },
  {
   "cell_type": "code",
   "execution_count": 33,
   "metadata": {
    "execution": {
     "iopub.execute_input": "2020-12-02T07:48:32.887308Z",
     "iopub.status.busy": "2020-12-02T07:48:32.885872Z",
     "iopub.status.idle": "2020-12-02T07:48:33.025570Z",
     "shell.execute_reply": "2020-12-02T07:48:33.026374Z"
    },
    "id": "7w5OezNYPLOf",
    "papermill": {
     "duration": 0.199827,
     "end_time": "2020-12-02T07:48:33.026604",
     "exception": false,
     "start_time": "2020-12-02T07:48:32.826777",
     "status": "completed"
    },
    "tags": []
   },
   "outputs": [],
   "source": [
    "xg=xgboost.XGBClassifier(colsample_bylevel= 0.1,\n",
    "                          colsample_bytree= 0.3,\n",
    "                          gamma= 0.1,\n",
    "                          learning_rate= 0.1,\n",
    "                          max_depth= 7,\n",
    "                          min_child_weight= 0.3,\n",
    "                          n_estimators= 100,\n",
    "                          reg_lambda= 0,\n",
    "                          subsample= 0.7)\n",
    "xg.fit(x_train, y_train)\n",
    "y_train_pred=xg.predict(x_train)"
   ]
  },
  {
   "cell_type": "code",
   "execution_count": 34,
   "metadata": {
    "execution": {
     "iopub.execute_input": "2020-12-02T07:48:33.159562Z",
     "iopub.status.busy": "2020-12-02T07:48:33.158675Z",
     "iopub.status.idle": "2020-12-02T07:48:33.172626Z",
     "shell.execute_reply": "2020-12-02T07:48:33.173484Z"
    },
    "id": "it5bYavpXBmL",
    "outputId": "4adb4a04-2b59-4caf-8fb0-dc81c36e1170",
    "papermill": {
     "duration": 0.084072,
     "end_time": "2020-12-02T07:48:33.173670",
     "exception": false,
     "start_time": "2020-12-02T07:48:33.089598",
     "status": "completed"
    },
    "tags": []
   },
   "outputs": [
    {
     "name": "stdout",
     "output_type": "stream",
     "text": [
      "[[61  0  0  0  0  0]\n",
      " [ 0 61  0  0  0  0]\n",
      " [ 0  0 61  0  0  0]\n",
      " [ 0  0  0 60  0  0]\n",
      " [ 0  0  0  0 60  0]\n",
      " [ 0  0  0  0  0 61]]\n",
      "\n",
      "\n",
      "              precision    recall  f1-score   support\n",
      "\n",
      "           1       1.00      1.00      1.00        61\n",
      "           2       1.00      1.00      1.00        61\n",
      "           3       1.00      1.00      1.00        61\n",
      "           5       1.00      1.00      1.00        60\n",
      "           6       1.00      1.00      1.00        60\n",
      "           7       1.00      1.00      1.00        61\n",
      "\n",
      "    accuracy                           1.00       364\n",
      "   macro avg       1.00      1.00      1.00       364\n",
      "weighted avg       1.00      1.00      1.00       364\n",
      "\n"
     ]
    }
   ],
   "source": [
    "from sklearn.metrics import confusion_matrix\n",
    "print(confusion_matrix(y_train, y_train_pred))\n",
    "print()\n",
    "print()\n",
    "from sklearn.metrics import classification_report\n",
    "\n",
    "print(classification_report(y_train, y_train_pred))"
   ]
  },
  {
   "cell_type": "code",
   "execution_count": 35,
   "metadata": {
    "execution": {
     "iopub.execute_input": "2020-12-02T07:48:33.290966Z",
     "iopub.status.busy": "2020-12-02T07:48:33.290190Z",
     "iopub.status.idle": "2020-12-02T07:48:33.907494Z",
     "shell.execute_reply": "2020-12-02T07:48:33.908293Z"
    },
    "id": "dL3iAZBnXDN2",
    "papermill": {
     "duration": 0.676168,
     "end_time": "2020-12-02T07:48:33.908525",
     "exception": false,
     "start_time": "2020-12-02T07:48:33.232357",
     "status": "completed"
    },
    "tags": []
   },
   "outputs": [],
   "source": [
    "from sklearn.model_selection import cross_val_predict\n",
    "\n",
    "y_train_pred= cross_val_predict(xg, x_train, y_train,cv=5)"
   ]
  },
  {
   "cell_type": "code",
   "execution_count": 36,
   "metadata": {
    "execution": {
     "iopub.execute_input": "2020-12-02T07:48:34.043654Z",
     "iopub.status.busy": "2020-12-02T07:48:34.042666Z",
     "iopub.status.idle": "2020-12-02T07:48:34.057607Z",
     "shell.execute_reply": "2020-12-02T07:48:34.058559Z"
    },
    "id": "1yTEOvx7XiBP",
    "outputId": "7d02baf7-6267-4054-d4de-8c4313f4f730",
    "papermill": {
     "duration": 0.087761,
     "end_time": "2020-12-02T07:48:34.058768",
     "exception": false,
     "start_time": "2020-12-02T07:48:33.971007",
     "status": "completed"
    },
    "tags": []
   },
   "outputs": [
    {
     "name": "stdout",
     "output_type": "stream",
     "text": [
      "[[50  7  4  0  0  0]\n",
      " [11 45  0  4  1  0]\n",
      " [ 4  1 56  0  0  0]\n",
      " [ 0  0  0 58  2  0]\n",
      " [ 0  0  0  0 60  0]\n",
      " [ 0  0  0  0  0 61]]\n",
      "\n",
      "\n",
      "              precision    recall  f1-score   support\n",
      "\n",
      "           1       0.77      0.82      0.79        61\n",
      "           2       0.85      0.74      0.79        61\n",
      "           3       0.93      0.92      0.93        61\n",
      "           5       0.94      0.97      0.95        60\n",
      "           6       0.95      1.00      0.98        60\n",
      "           7       1.00      1.00      1.00        61\n",
      "\n",
      "    accuracy                           0.91       364\n",
      "   macro avg       0.91      0.91      0.91       364\n",
      "weighted avg       0.91      0.91      0.91       364\n",
      "\n"
     ]
    }
   ],
   "source": [
    "print(confusion_matrix(y_train, y_train_pred))\n",
    "print()\n",
    "print()\n",
    "from sklearn.metrics import classification_report\n",
    "\n",
    "print(classification_report(y_train, y_train_pred))"
   ]
  },
  {
   "cell_type": "code",
   "execution_count": 37,
   "metadata": {
    "execution": {
     "iopub.execute_input": "2020-12-02T07:48:34.184152Z",
     "iopub.status.busy": "2020-12-02T07:48:34.182980Z",
     "iopub.status.idle": "2020-12-02T07:48:34.203695Z",
     "shell.execute_reply": "2020-12-02T07:48:34.204375Z"
    },
    "id": "XCRLqe1oXj4i",
    "outputId": "c9561e63-e3cb-43da-c6f3-4da053860935",
    "papermill": {
     "duration": 0.082868,
     "end_time": "2020-12-02T07:48:34.204621",
     "exception": false,
     "start_time": "2020-12-02T07:48:34.121753",
     "status": "completed"
    },
    "tags": []
   },
   "outputs": [
    {
     "name": "stdout",
     "output_type": "stream",
     "text": [
      "[[12  2  1  0  0  0]\n",
      " [ 2 11  0  2  0  0]\n",
      " [ 0  0 15  0  0  0]\n",
      " [ 0  0  0 16  0  0]\n",
      " [ 0  0  0  0 16  0]\n",
      " [ 0  0  0  0  0 15]]\n",
      "\n",
      "\n",
      "              precision    recall  f1-score   support\n",
      "\n",
      "           1       0.86      0.80      0.83        15\n",
      "           2       0.85      0.73      0.79        15\n",
      "           3       0.94      1.00      0.97        15\n",
      "           5       0.89      1.00      0.94        16\n",
      "           6       1.00      1.00      1.00        16\n",
      "           7       1.00      1.00      1.00        15\n",
      "\n",
      "    accuracy                           0.92        92\n",
      "   macro avg       0.92      0.92      0.92        92\n",
      "weighted avg       0.92      0.92      0.92        92\n",
      "\n"
     ]
    }
   ],
   "source": [
    "y_test_pred=xg.predict(x_test)\n",
    "print(confusion_matrix(y_test, y_test_pred))\n",
    "print()\n",
    "print()\n",
    "from sklearn.metrics import classification_report\n",
    "\n",
    "print(classification_report(y_test, y_test_pred))"
   ]
  },
  {
   "cell_type": "code",
   "execution_count": null,
   "metadata": {
    "id": "A5CHpC9wXl2_",
    "papermill": {
     "duration": 0.063998,
     "end_time": "2020-12-02T07:48:34.334047",
     "exception": false,
     "start_time": "2020-12-02T07:48:34.270049",
     "status": "completed"
    },
    "tags": []
   },
   "outputs": [],
   "source": []
  }
 ],
 "metadata": {
  "kernelspec": {
   "display_name": "Python 3",
   "language": "python",
   "name": "python3"
  },
  "language_info": {
   "codemirror_mode": {
    "name": "ipython",
    "version": 3
   },
   "file_extension": ".py",
   "mimetype": "text/x-python",
   "name": "python",
   "nbconvert_exporter": "python",
   "pygments_lexer": "ipython3",
   "version": "3.7.6"
  },
  "papermill": {
   "duration": 198.410111,
   "end_time": "2020-12-02T07:48:34.508708",
   "environment_variables": {},
   "exception": null,
   "input_path": "__notebook__.ipynb",
   "output_path": "__notebook__.ipynb",
   "parameters": {},
   "start_time": "2020-12-02T07:45:16.098597",
   "version": "2.1.0"
  }
 },
 "nbformat": 4,
 "nbformat_minor": 4
}
